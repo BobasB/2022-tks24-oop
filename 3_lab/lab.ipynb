{
 "cells": [
  {
   "cell_type": "code",
   "execution_count": 1,
   "metadata": {},
   "outputs": [
    {
     "name": "stdout",
     "output_type": "stream",
     "text": [
      "Let's Start!\n",
      ">*<>*<>*<>*<>*<>*<>*<>*<>*<>*<>*<>*<>*<>*<>*<>*<>*<>*<>*<>*<\n",
      "This is object: <__main__.MyName object at 0x000002CAA0E06890> \n",
      "This is object attribute: Bohdan / 1\n",
      "This is <class 'property'>: My name is Bohdan / Bohdan@itcollege.lviv.ua\n",
      "This is <class 'method'> call: Bohdan@itcollege.lviv.ua\n",
      "This is static <class 'function'> with defaults: You say: Hello to everyone! \n",
      "This is class variable <class 'int'>: from class 4 / from object 4\n",
      "<*><*><*><*><*><*><*><*><*><*><*><*><*><*><*><*><*><*><*><*>\n",
      ">*<>*<>*<>*<>*<>*<>*<>*<>*<>*<>*<>*<>*<>*<>*<>*<>*<>*<>*<>*<\n",
      "This is object: <__main__.MyName object at 0x000002CAA1B59930> \n",
      "This is object attribute: Marta / 2\n",
      "This is <class 'property'>: My name is Marta / Marta@itcollege.lviv.ua\n",
      "This is <class 'method'> call: Marta@itcollege.lviv.ua\n",
      "This is static <class 'function'> with defaults: You say: Hello to everyone! \n",
      "This is class variable <class 'int'>: from class 4 / from object 4\n",
      "<*><*><*><*><*><*><*><*><*><*><*><*><*><*><*><*><*><*><*><*>\n",
      ">*<>*<>*<>*<>*<>*<>*<>*<>*<>*<>*<>*<>*<>*<>*<>*<>*<>*<>*<>*<\n",
      "This is object: <__main__.MyName object at 0x000002CAA1B5AEF0> \n",
      "This is object attribute: Anonymous / 4\n",
      "This is <class 'property'>: My name is Anonymous / Anonymous@itcollege.lviv.ua\n",
      "This is <class 'method'> call: Anonymous@itcollege.lviv.ua\n",
      "This is static <class 'function'> with defaults: You say: Hello to everyone! \n",
      "This is class variable <class 'int'>: from class 4 / from object 4\n",
      "<*><*><*><*><*><*><*><*><*><*><*><*><*><*><*><*><*><*><*><*>\n",
      "We are done. We create 4 names! ??? Why 4?\n"
     ]
    }
   ],
   "source": [
    "\n",
    "class MyName:\n",
    "    \"\"\"Опис класу / Документація\n",
    "    \"\"\"\n",
    "    total_names = 0 #Class Variable\n",
    "\n",
    "    def __init__(self, name=None) -> None:\n",
    "        self.name = name if name is not None else self.anonymous_user().name #Class attributes / Instance variables\n",
    "        MyName.total_names += 1 #modify class variable\n",
    "        self.my_id = self.total_names\n",
    "\n",
    "    @property\n",
    "    def whoami(self): \n",
    "        \"\"\"Class property\n",
    "        return: повертаємо імя \n",
    "        \"\"\"\n",
    "        return f\"My name is {self.name}\"\n",
    "    \n",
    "    @property\n",
    "    def my_email(self) -> str:\n",
    "        \"\"\"Class property\n",
    "        return: повертаємо емейл\n",
    "        \"\"\"\n",
    "        return self.create_email()\n",
    "    \n",
    "    def create_email(self) -> str:\n",
    "        \"\"\"Instance method\n",
    "        \"\"\"\n",
    "        return f\"{self.name}@itcollege.lviv.ua\"\n",
    "\n",
    "    @classmethod\n",
    "    def anonymous_user(cls):\n",
    "        \"\"\"Classs method\n",
    "        \"\"\"\n",
    "        return cls(\"Anonymous\")\n",
    "    \n",
    "    @staticmethod\n",
    "    def say_hello(message=\"Hello to everyone!\"):\n",
    "        \"\"\"Static method\n",
    "        \"\"\"\n",
    "        return f\"You say: {message}\"\n",
    "\n",
    "\n",
    "print(\"Let's Start!\")\n",
    "\n",
    "names = (\"Bohdan\", \"Marta\", None)\n",
    "all_names = {name: MyName(name) for name in names}\n",
    "\n",
    "for name, me in all_names.items():\n",
    "    print(f\"\"\"{\">*<\"*20}\n",
    "This is object: {me} \n",
    "This is object attribute: {me.name} / {me.my_id}\n",
    "This is {type(MyName.whoami)}: {me.whoami} / {me.my_email}\n",
    "This is {type(me.create_email)} call: {me.create_email()}\n",
    "This is static {type(MyName.say_hello)} with defaults: {me.say_hello()} \n",
    "This is class variable {type(MyName.total_names)}: from class {MyName.total_names} / from object {me.total_names}\n",
    "{\"<*>\"*20}\"\"\")\n",
    "\n",
    "print(f\"We are done. We create {me.total_names} names! ??? Why {MyName.total_names}?\")\n"
   ]
  },
  {
   "cell_type": "markdown",
   "metadata": {},
   "source": [
    "### Це просто змінні які мають інформацію про Тварин"
   ]
  },
  {
   "cell_type": "code",
   "execution_count": 4,
   "metadata": {},
   "outputs": [
    {
     "name": "stdout",
     "output_type": "stream",
     "text": [
      "мої тваринки записані в <class 'list'> а їх імена в <class 'list'>\n",
      "На позиції 1 знаходиться тваринка Cat з імям Васька\n"
     ]
    }
   ],
   "source": [
    "L = [\"Fish\", \"Cat\", \"Dog\"]\n",
    "Names = [\"Рибка\", \"Васька\", \"Шарік\"]\n",
    "\n",
    "print(f\"мої тваринки записані в {type(L)} а їх імена в {type(Names)}\")\n",
    "print(f\"На позиції 1 знаходиться тваринка {L[1]} з імям {Names[1]}\")"
   ]
  },
  {
   "cell_type": "markdown",
   "metadata": {},
   "source": [
    "### Працюємо з обєктами і класами для опису тварин"
   ]
  },
  {
   "cell_type": "code",
   "execution_count": 22,
   "metadata": {},
   "outputs": [
    {
     "name": "stdout",
     "output_type": "stream",
     "text": [
      "Я маю тваринку Рибка з імям Неони\n",
      "Я маю тваринку Кіт з імям Васька\n",
      "<class '__main__.MyAnimals'>\n",
      "Моя перша тваринка Рибка має імя: Неони та живе зі мною None\n",
      "Моя друга тваринка Кіт має імя: Васька\n",
      "Тваринка Рибка живе в мене 1 рік\n",
      "Тваринка Кіт живе в мене 5 рік\n"
     ]
    }
   ],
   "source": [
    "class MyAnimals:\n",
    "    def __init__(self, animal_type, name, age = None) -> None:\n",
    "        print(f\"Я маю тваринку {animal_type} з імям {name}\")\n",
    "        self.animal_type = animal_type\n",
    "        self.name = name\n",
    "        self.age = age\n",
    "\n",
    "a1 = MyAnimals(\"Рибка\", \"Неони\")\n",
    "a2 = MyAnimals(\"Кіт\", \"Васька\")\n",
    "\n",
    "print(type(a1))\n",
    "\n",
    "print(f\"Моя перша тваринка {a1.animal_type} має імя: {a1.name} та живе зі мною {a1.age}\")\n",
    "\n",
    "print(f\"Моя друга тваринка {a2.animal_type} має імя: {a2.name}\")\n",
    "\n",
    "a1.age = 1 # Це я задав динамічний атрибут\n",
    "\n",
    "[a1.age, a2.age] = [1, 5] # Це я задав динамічний атрибут зразу для двох обєктів\n",
    "\n",
    "print(f\"Тваринка {a1.animal_type} живе в мене {a1.age} рік\")\n",
    "print(f\"Тваринка {a2.animal_type} живе в мене {a2.age} рік\")"
   ]
  },
  {
   "cell_type": "markdown",
   "metadata": {},
   "source": [
    "### Методи класу - що можна робити обєкту"
   ]
  },
  {
   "cell_type": "code",
   "execution_count": 29,
   "metadata": {},
   "outputs": [
    {
     "name": "stdout",
     "output_type": "stream",
     "text": [
      "Я маю тваринку Собака з імям Шарік\n",
      "Собака каже Гавв\n",
      "Собака  має стільки ж років скільки людина 20\n",
      "Я маю тваринку Рибки з імям Неони\n",
      "Не знаєю що говорить тваринка Рибки \n",
      "Рибки не знаємо як перевести вік в 1\n"
     ]
    }
   ],
   "source": [
    "class MyAnimals:\n",
    "    def __init__(self, animal_type, name, age = None) -> None:\n",
    "        print(f\"Я маю тваринку {animal_type} з імям {name}\")\n",
    "        self.animal_type = animal_type\n",
    "        self.name = name\n",
    "        self.age = age\n",
    "    \n",
    "    def speak(self):\n",
    "        if self.animal_type == \"Кіт\":\n",
    "            return f\"{self.animal_type} каже Мяууу\"\n",
    "        elif self.animal_type == \"Собака\":\n",
    "            return f\"{self.animal_type} каже Гавв\"\n",
    "        else:\n",
    "            return f\"Не знаєю що говорить тваринка {self.animal_type} \"\n",
    "\n",
    "    def get_age_as_a_human(self):\n",
    "        ### Це видумано з голови\n",
    "        if self.animal_type == \"Кіт\":\n",
    "            return f\"{self.animal_type} має стільки ж років скільки людина {self.age * 3}\"\n",
    "        elif self.animal_type == \"Собака\":\n",
    "            return f\"{self.animal_type}  має стільки ж років скільки людина {self.age * 4}\"\n",
    "        else:\n",
    "            return f\"{self.animal_type} не знаємо як перевести вік в {self.age}\"\n",
    "\n",
    "\n",
    "a1 = MyAnimals(\"Собака\", \"Шарік\", 5)\n",
    "print(a1.speak())\n",
    "print(a1.get_age_as_a_human())\n",
    "\n",
    "a2 = MyAnimals(\"Рибки\", \"Неони\", 1)\n",
    "print(a2.speak())\n",
    "print(a2.get_age_as_a_human())"
   ]
  },
  {
   "cell_type": "markdown",
   "metadata": {},
   "source": [
    "### Додаємо змінні класу"
   ]
  },
  {
   "cell_type": "code",
   "execution_count": 39,
   "metadata": {},
   "outputs": [
    {
     "name": "stdout",
     "output_type": "stream",
     "text": [
      "Зараз в мене є такі тваринки set() та їх кількість: 0\n",
      "Я маю тваринку Собака з імям Шарік\n",
      "Я маю тваринку Собака з імям Рекс\n",
      "Я маю тваринку Рибки з імям Неони\n",
      "Я маю тваринку Рибки з імям Гупії\n",
      "Зараз в мене є такі тваринки {'Рибки', 'Собака'} та їх кількість: 4\n"
     ]
    }
   ],
   "source": [
    "class MyAnimals:\n",
    "    total_animals = 0\n",
    "    my_animals = set()\n",
    "\n",
    "    def __init__(self, animal_type, name, age = None) -> None:\n",
    "        print(f\"Я маю тваринку {animal_type} з імям {name}\")\n",
    "        self.animal_type = animal_type\n",
    "        self.name = name\n",
    "        self.age = age\n",
    "        MyAnimals.total_animals += 1\n",
    "        MyAnimals.my_animals.add(animal_type)\n",
    "    \n",
    "    def speak(self):\n",
    "        if self.animal_type == \"Кіт\":\n",
    "            return f\"{self.animal_type} каже Мяууу\"\n",
    "        elif self.animal_type == \"Собака\":\n",
    "            return f\"{self.animal_type} каже Гавв\"\n",
    "        else:\n",
    "            return f\"Не знаєю що говорить тваринка {self.animal_type} \"\n",
    "\n",
    "    def get_age_as_a_human(self):\n",
    "        ### Це видумано з голови\n",
    "        if self.animal_type == \"Кіт\":\n",
    "            return f\"{self.animal_type} має стільки ж років скільки людина {self.age * 3}\"\n",
    "        elif self.animal_type == \"Собака\":\n",
    "            return f\"{self.animal_type}  має стільки ж років скільки людина {self.age * 4}\"\n",
    "        else:\n",
    "            return f\"{self.animal_type} не знаємо як перевести вік в {self.age}\"\n",
    "\n",
    "print(f\"Зараз в мене є такі тваринки {MyAnimals.my_animals} та їх кількість: {MyAnimals.total_animals}\")\n",
    "MyAnimals(\"Собака\", \"Шарік\", 5)\n",
    "MyAnimals(\"Собака\", \"Рекс\", 1)\n",
    "MyAnimals(\"Рибки\", \"Неони\", 1)\n",
    "MyAnimals(\"Рибки\", \"Гупії\", 2)\n",
    "print(f\"Зараз в мене є такі тваринки {MyAnimals.my_animals} та їх кількість: {MyAnimals.total_animals}\")"
   ]
  }
 ],
 "metadata": {
  "kernelspec": {
   "display_name": "Python 3.10.6 64-bit",
   "language": "python",
   "name": "python3"
  },
  "language_info": {
   "codemirror_mode": {
    "name": "ipython",
    "version": 3
   },
   "file_extension": ".py",
   "mimetype": "text/x-python",
   "name": "python",
   "nbconvert_exporter": "python",
   "pygments_lexer": "ipython3",
   "version": "3.10.6"
  },
  "orig_nbformat": 4,
  "vscode": {
   "interpreter": {
    "hash": "a42ccb73e7d9bfdf27e036f1d2b8b681e55fc0743cc5586bc2474d4a60f4b886"
   }
  }
 },
 "nbformat": 4,
 "nbformat_minor": 2
}
