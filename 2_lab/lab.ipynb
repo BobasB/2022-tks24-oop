{
 "cells": [
  {
   "cell_type": "markdown",
   "metadata": {},
   "source": [
    "# Працюю з базовими типами даних"
   ]
  },
  {
   "cell_type": "code",
   "execution_count": 2,
   "metadata": {},
   "outputs": [
    {
     "name": "stdout",
     "output_type": "stream",
     "text": [
      "Це є тип стрічка Круто\n"
     ]
    }
   ],
   "source": [
    "this_is_variable = \"Це є тип стрічка\"\n",
    "var_2 = \"Круто\"\n",
    "print(this_is_variable, var_2)"
   ]
  },
  {
   "cell_type": "code",
   "execution_count": 4,
   "metadata": {},
   "outputs": [
    {
     "name": "stdout",
     "output_type": "stream",
     "text": [
      "14.5\n"
     ]
    }
   ],
   "source": [
    "a = 4\n",
    "b = 10.5\n",
    "print(a+b)"
   ]
  },
  {
   "cell_type": "code",
   "execution_count": 68,
   "metadata": {},
   "outputs": [
    {
     "name": "stdout",
     "output_type": "stream",
     "text": [
      "я виводжу змінну: 4 Далі буде текстова змінна Круто\n",
      "я виводжу змінну: 4 Далі буде текстова змінна Круто\n",
      "я виводжу змінну: 4 Далі буде текстова змінна Круто\n",
      "я виводжу змінну: 4 Далі буде текстова змінна Круто\n"
     ]
    }
   ],
   "source": [
    "print(\"я виводжу змінну:\", a,\"Далі буде текстова змінна\", var_2)\n",
    "\n",
    "print(\"я виводжу змінну: \" + str(a) + \" Далі буде текстова змінна \" + var_2)\n",
    "\n",
    "print(\"я виводжу змінну: {0} Далі буде текстова змінна {1}\".format(a, var_2))\n",
    "\n",
    "print(f\"я виводжу змінну: {a} Далі буде текстова змінна {var_2}\")"
   ]
  },
  {
   "cell_type": "code",
   "execution_count": 44,
   "metadata": {},
   "outputs": [
    {
     "name": "stdout",
     "output_type": "stream",
     "text": [
      "Виводжу перший елемент ліста: 1\n",
      "Замінюємо елемент None\n",
      "Заміна\n",
      "<class 'list'>\n",
      "Видаляємо елементи Сету asd\n",
      "Елементи після видалення {1, 2, 5.5}\n"
     ]
    }
   ],
   "source": [
    "ll = [\"Стрічка\", 1, 1.5, [1, 5], 1]\n",
    "print(f\"Виводжу перший елемент ліста: {ll[1]}\")\n",
    "print(f\"Замінюємо елемент {ll.insert(1, 'Заміна')}\")\n",
    "print(ll[1])\n",
    "\n",
    "print(type(ll))\n",
    "\n",
    "ss = {\"asd\", 1, 5.5, 1, 2, \"asd\"}\n",
    "print(f\"Видаляємо елементи Сету {ss.pop()}\")\n",
    "print(f\"Елементи після видалення {ss}\")"
   ]
  },
  {
   "cell_type": "markdown",
   "metadata": {},
   "source": [
    "# Знайомимся з словниками"
   ]
  },
  {
   "cell_type": "code",
   "execution_count": 53,
   "metadata": {},
   "outputs": [
    {
     "name": "stdout",
     "output_type": "stream",
     "text": [
      "Це є <class 'dict'> і його елементи {'a': 'Богдан', 4: 'Стас'}\n",
      "Беремо елемет << a >> Богдан та елемент << 4 >> Стас\n"
     ]
    }
   ],
   "source": [
    "dd = {\"a\": \"Богдан\", a: \"Стас\"}\n",
    "print(f\"Це є {type(dd)} і його елементи {dd}\")\n",
    "print(f\"Беремо елемет << a >> {dd['a']} та елемент << {a} >> {dd[a]}\")"
   ]
  },
  {
   "cell_type": "code",
   "execution_count": 2,
   "metadata": {},
   "outputs": [
    {
     "ename": "NameError",
     "evalue": "name 'a' is not defined",
     "output_type": "error",
     "traceback": [
      "\u001b[1;31m---------------------------------------------------------------------------\u001b[0m",
      "\u001b[1;31mNameError\u001b[0m                                 Traceback (most recent call last)",
      "\u001b[1;32mc:\\IT_College_Students\\2022-tks24-oop\\2_lab\\lab.ipynb Cell 8\u001b[0m in \u001b[0;36m<cell line: 1>\u001b[1;34m()\u001b[0m\n\u001b[1;32m----> <a href='vscode-notebook-cell:/c%3A/IT_College_Students/2022-tks24-oop/2_lab/lab.ipynb#X10sZmlsZQ%3D%3D?line=0'>1</a>\u001b[0m \u001b[39mprint\u001b[39m(\u001b[39mf\u001b[39m\u001b[39m\"\u001b[39m\u001b[39mПробую функію type \u001b[39m\u001b[39m{\u001b[39;00m\u001b[39mtype\u001b[39m(a)\u001b[39m}\u001b[39;00m\u001b[39m\"\u001b[39m)\n\u001b[0;32m      <a href='vscode-notebook-cell:/c%3A/IT_College_Students/2022-tks24-oop/2_lab/lab.ipynb#X10sZmlsZQ%3D%3D?line=1'>2</a>\u001b[0m \u001b[39mprint\u001b[39m(\u001b[39mf\u001b[39m\u001b[39m\"\u001b[39m\u001b[39mСтворюємо сет за допомогою функції \u001b[39m\u001b[39m{\u001b[39;00m\u001b[39mset\u001b[39m([\u001b[39m1\u001b[39m])\u001b[39m}\u001b[39;00m\u001b[39m\"\u001b[39m)\n\u001b[0;32m      <a href='vscode-notebook-cell:/c%3A/IT_College_Students/2022-tks24-oop/2_lab/lab.ipynb#X10sZmlsZQ%3D%3D?line=2'>3</a>\u001b[0m TrueS \u001b[39m=\u001b[39m \u001b[39m1\u001b[39m\n",
      "\u001b[1;31mNameError\u001b[0m: name 'a' is not defined"
     ]
    }
   ],
   "source": [
    "print(f\"Пробую функію type {type(a)}\")\n",
    "print(f\"Створюємо сет за допомогою функції {set([1])}\")\n",
    "TrueS = 1\n",
    "print(f\"Пробую константу {True} яка може бути схожою на змінну {TrueS}\")\n",
    "\n",
    "id(a)"
   ]
  }
 ],
 "metadata": {
  "kernelspec": {
   "display_name": "Python 3.10.6 64-bit",
   "language": "python",
   "name": "python3"
  },
  "language_info": {
   "codemirror_mode": {
    "name": "ipython",
    "version": 3
   },
   "file_extension": ".py",
   "mimetype": "text/x-python",
   "name": "python",
   "nbconvert_exporter": "python",
   "pygments_lexer": "ipython3",
   "version": "3.10.6"
  },
  "orig_nbformat": 4,
  "vscode": {
   "interpreter": {
    "hash": "a42ccb73e7d9bfdf27e036f1d2b8b681e55fc0743cc5586bc2474d4a60f4b886"
   }
  }
 },
 "nbformat": 4,
 "nbformat_minor": 2
}
