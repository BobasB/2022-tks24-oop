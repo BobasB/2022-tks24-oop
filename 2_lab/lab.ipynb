{
 "cells": [
  {
   "cell_type": "markdown",
   "metadata": {},
   "source": [
    "# Працюю з базовими типами даних"
   ]
  },
  {
   "cell_type": "code",
   "execution_count": 97,
   "metadata": {},
   "outputs": [
    {
     "name": "stdout",
     "output_type": "stream",
     "text": [
      "Це є тип стрічка Круто\n"
     ]
    }
   ],
   "source": [
    "this_is_variable = \"Це є тип стрічка\"\n",
    "var_2 = \"Круто\"\n",
    "print(this_is_variable, var_2)"
   ]
  },
  {
   "cell_type": "code",
   "execution_count": 98,
   "metadata": {},
   "outputs": [
    {
     "name": "stdout",
     "output_type": "stream",
     "text": [
      "14.5\n"
     ]
    }
   ],
   "source": [
    "a = 4\n",
    "b = 10.5\n",
    "print(a+b)"
   ]
  },
  {
   "cell_type": "code",
   "execution_count": 99,
   "metadata": {},
   "outputs": [
    {
     "name": "stdout",
     "output_type": "stream",
     "text": [
      "я виводжу змінну: 4 Далі буде текстова змінна Круто\n",
      "я виводжу змінну: 4 Далі буде текстова змінна Круто\n",
      "я виводжу змінну: 4 Далі буде текстова змінна Круто\n",
      "я виводжу змінну: 4 Далі буде текстова змінна Круто\n"
     ]
    }
   ],
   "source": [
    "print(\"я виводжу змінну:\", a,\"Далі буде текстова змінна\", var_2)\n",
    "\n",
    "print(\"я виводжу змінну: \" + str(a) + \" Далі буде текстова змінна \" + var_2)\n",
    "\n",
    "print(\"я виводжу змінну: {0} Далі буде текстова змінна {1}\".format(a, var_2))\n",
    "\n",
    "print(f\"я виводжу змінну: {a} Далі буде текстова змінна {var_2}\")"
   ]
  },
  {
   "cell_type": "code",
   "execution_count": 100,
   "metadata": {},
   "outputs": [
    {
     "name": "stdout",
     "output_type": "stream",
     "text": [
      "Виводжу перший елемент ліста: 1\n",
      "Замінюємо елемент None\n",
      "Заміна\n",
      "<class 'list'>\n",
      "Видаляємо елементи Сету asd\n",
      "Елементи після видалення {2, 5.5, 1}\n"
     ]
    }
   ],
   "source": [
    "ll = [\"Стрічка\", 1, 1.5, [1, 5], 1]\n",
    "print(f\"Виводжу перший елемент ліста: {ll[1]}\")\n",
    "print(f\"Замінюємо елемент {ll.insert(1, 'Заміна')}\")\n",
    "print(ll[1])\n",
    "\n",
    "print(type(ll))\n",
    "\n",
    "ss = {\"asd\", 1, 5.5, 1, 2, \"asd\"}\n",
    "print(f\"Видаляємо елементи Сету {ss.pop()}\")\n",
    "print(f\"Елементи після видалення {ss}\")"
   ]
  },
  {
   "cell_type": "markdown",
   "metadata": {},
   "source": [
    "# Знайомимся з словниками"
   ]
  },
  {
   "cell_type": "code",
   "execution_count": 101,
   "metadata": {},
   "outputs": [
    {
     "name": "stdout",
     "output_type": "stream",
     "text": [
      "Це є <class 'dict'> і його елементи {'a': 'Богдан', 4: 'Стас'}\n",
      "Беремо елемет << a >> Богдан та елемент << 4 >> Стас\n"
     ]
    }
   ],
   "source": [
    "dd = {\"a\": \"Богдан\", a: \"Стас\"}\n",
    "print(f\"Це є {type(dd)} і його елементи {dd}\")\n",
    "print(f\"Беремо елемет << a >> {dd['a']} та елемент << {a} >> {dd[a]}\")"
   ]
  },
  {
   "cell_type": "code",
   "execution_count": 102,
   "metadata": {},
   "outputs": [
    {
     "name": "stdout",
     "output_type": "stream",
     "text": [
      "Пробую функію type <class 'int'>\n",
      "Створюємо сет за допомогою функції {1}\n",
      "Пробую константу True яка може бути схожою на змінну 1\n"
     ]
    },
    {
     "data": {
      "text/plain": [
       "1883867382096"
      ]
     },
     "execution_count": 102,
     "metadata": {},
     "output_type": "execute_result"
    }
   ],
   "source": [
    "print(f\"Пробую функію type {type(a)}\")\n",
    "print(f\"Створюємо сет за допомогою функції {set([1])}\")\n",
    "TrueS = 1\n",
    "print(f\"Пробую константу {True} яка може бути схожою на змінну {TrueS}\")\n",
    "\n",
    "id(a)"
   ]
  },
  {
   "cell_type": "markdown",
   "metadata": {},
   "source": [
    "### Робота з циклами\n",
    "- while\n",
    "- for"
   ]
  },
  {
   "cell_type": "code",
   "execution_count": 103,
   "metadata": {},
   "outputs": [
    {
     "name": "stdout",
     "output_type": "stream",
     "text": [
      "Ми виконуємо ітерацію 0\n",
      "Ми виконуємо ітерацію 1\n",
      "Ми виконуємо ітерацію 2\n",
      "Ми виконуємо ітерацію 3\n",
      "Ми виконуємо ітерацію 4\n",
      "Ми виконуємо ітерацію 5\n",
      "Закінчуємо цикл\n",
      "Ми виконуємо ітерацію 0\n",
      "Ми виконуємо ітерацію 1\n",
      "Ми виконуємо ітерацію 2\n",
      "Ми виконуємо ітерацію 3\n",
      "Ми виконуємо ітерацію 4\n",
      "Ми виконуємо ітерацію 5\n",
      "Закінчуємо цикл на значенні\n"
     ]
    }
   ],
   "source": [
    "i = 0\n",
    "while True:\n",
    "    print(f\"Ми виконуємо ітерацію {i}\")\n",
    "    i += 1\n",
    "    if i > 5:\n",
    "        print(\"Закінчуємо цикл\")\n",
    "        break\n",
    "\n",
    "i = 0\n",
    "while i <= 5:\n",
    "    print(f\"Ми виконуємо ітерацію {i}\")\n",
    "    i += 1\n",
    "else:\n",
    "    print(\"Закінчуємо цикл на значенні\",)"
   ]
  },
  {
   "cell_type": "code",
   "execution_count": 104,
   "metadata": {},
   "outputs": [
    {
     "name": "stdout",
     "output_type": "stream",
     "text": [
      "Ми виконуємо ітерацію 1\n",
      "Ми виконуємо ітерацію 2\n",
      "Значення 3 не буде виведено\n",
      "Ми виконуємо ітерацію 4\n",
      "Ми виконуємо ітерацію 5\n",
      "Ми виконуємо ітерацію 6\n"
     ]
    }
   ],
   "source": [
    "i = 0\n",
    "while i <= 5:\n",
    "    i += 1\n",
    "    if i == 3:\n",
    "        print(f\"Значення {i} не буде виведено\")\n",
    "        continue\n",
    "    print(f\"Ми виконуємо ітерацію {i}\")"
   ]
  },
  {
   "cell_type": "code",
   "execution_count": 105,
   "metadata": {},
   "outputs": [
    {
     "name": "stdout",
     "output_type": "stream",
     "text": [
      "50.0\n",
      "Беремо елемент 2 який знаходиться на позиції 0\n",
      "20.0\n",
      "Беремо елемент 5 який знаходиться на позиції 1\n",
      "40.0\n",
      "Беремо елемент 2.5 який знаходиться на позиції 2\n",
      "На нуль ділити не можна!\n",
      "Беремо елемент 0 який знаходиться на позиції 3\n",
      "16.666666666666668\n",
      "Беремо елемент 6 який знаходиться на позиції 4\n"
     ]
    }
   ],
   "source": [
    "li = [2, 5, 2.5, 0, 6]\n",
    "hh = \"На нуль ділити не можна!\"\n",
    "for i in li:\n",
    "    print(100/i if i != 0 else hh)\n",
    "    print(f\"Беремо елемент {i} який знаходиться на позиції {li.index(i)}\")\n",
    "\n"
   ]
  },
  {
   "cell_type": "code",
   "execution_count": 106,
   "metadata": {},
   "outputs": [
    {
     "name": "stdout",
     "output_type": "stream",
     "text": [
      "\n",
      "X~\n",
      "X~X~\n",
      "X~X~X~\n",
      "X~X~X~X~\n",
      "X~X~X~X~X~\n",
      "X~X~X~X~X~X~\n",
      "X~X~X~X~X~X~X~\n",
      "X~X~X~X~X~X~X~X~\n",
      "X~X~X~X~X~X~X~X~X~\n",
      "~X~X~X~X~X~X~X~X~X\n",
      "~X~X~X~X~X~X~X~X\n",
      "~X~X~X~X~X~X~X\n",
      "~X~X~X~X~X~X\n",
      "~X~X~X~X~X\n",
      "~X~X~X~X\n",
      "~X~X~X\n",
      "~X~X\n",
      "~X\n"
     ]
    }
   ],
   "source": [
    "for a in range(10):\n",
    "    print(a * \"X~\")\n",
    "\n",
    "for b in range(a):\n",
    "    print((a-b) * \"~X\")\n",
    "    "
   ]
  },
  {
   "cell_type": "markdown",
   "metadata": {},
   "source": [
    "### Працюємо з розгалуженнями"
   ]
  },
  {
   "cell_type": "code",
   "execution_count": 107,
   "metadata": {},
   "outputs": [
    {
     "name": "stdout",
     "output_type": "stream",
     "text": [
      ">> Ми на ітерації  0\n",
      "Ніяка умова не виконалась\n",
      ">> Завершення ітерації\n",
      ">> Ми на ітерації  1\n",
      "Ми зайшли в перше розгалуження\n",
      ">> Завершення ітерації\n",
      ">> Ми на ітерації  2\n",
      "Ніяка умова не виконалась\n",
      ">> Завершення ітерації\n",
      ">> Ми на ітерації  3\n",
      "Ми зайшли в друге розгалуження\n",
      ">> Завершення ітерації\n",
      ">> Ми на ітерації  4\n",
      "Ніяка умова не виконалась\n",
      ">> Завершення ітерації\n"
     ]
    }
   ],
   "source": [
    "for A in range(5):\n",
    "    print(\">> Ми на ітерації \", A)\n",
    "    if A == 1:\n",
    "        print(\"Ми зайшли в перше розгалуження\")\n",
    "    elif A == 3:\n",
    "        print(\"Ми зайшли в друге розгалуження\")\n",
    "    else:\n",
    "        print(\"Ніяка умова не виконалась\")\n",
    "    print(\">> Завершення ітерації\")"
   ]
  },
  {
   "cell_type": "code",
   "execution_count": 108,
   "metadata": {},
   "outputs": [
    {
     "name": "stdout",
     "output_type": "stream",
     "text": [
      "Значить А=False\n",
      "Значить А=False\n"
     ]
    }
   ],
   "source": [
    "A = False\n",
    "\n",
    "if A:\n",
    "    print(\"Значить А=True\")\n",
    "else:\n",
    "    print(\"Значить А=False\")\n",
    "\n",
    "print(\"Значить А=True\" if A else \"Значить А=False\")"
   ]
  },
  {
   "cell_type": "code",
   "execution_count": 109,
   "metadata": {},
   "outputs": [
    {
     "name": "stdout",
     "output_type": "stream",
     "text": [
      "Метод 1: 10.0\n",
      "Метод 1: 5.0\n",
      "Метод 1: 3.3333333333333335\n",
      "Метод 1: 2.5\n",
      "['Метод 2: 10.0', 'Метод 2: 5.0', 'Метод 2: 3.3333333333333335', 'Метод 2: 2.5']\n"
     ]
    }
   ],
   "source": [
    "for x in range(1, 5):\n",
    "    print(f\"Метод 1: {10 / x}\")\n",
    "\n",
    "print(list(f\"Метод 2: {10 / x}\" for x in range(1, 5)))"
   ]
  },
  {
   "cell_type": "markdown",
   "metadata": {},
   "source": [
    "### Робота з помилками"
   ]
  },
  {
   "cell_type": "code",
   "execution_count": 110,
   "metadata": {},
   "outputs": [
    {
     "name": "stdout",
     "output_type": "stream",
     "text": [
      "ss1\n"
     ]
    }
   ],
   "source": [
    "A = \"ss\" + str(1) # ми перевели цифру в стрічку\n",
    "print(A)"
   ]
  },
  {
   "cell_type": "code",
   "execution_count": 111,
   "metadata": {},
   "outputs": [
    {
     "name": "stdout",
     "output_type": "stream",
     "text": [
      "4\n",
      "Що буде якщо 2.5 ?\n",
      "У нас сталась помилка >> Це наша помилка, яка буде завжди\n",
      "А вот воно що!\n"
     ]
    }
   ],
   "source": [
    "from random import choice\n",
    "from re import T\n",
    "\n",
    "A = choice(range(5))\n",
    "print(A)\n",
    "\n",
    "try:\n",
    "    print(\"Що буде якщо\", 10/A, \"?\")\n",
    "    raise TypeError(\"Це наша помилка, яка буде завжди\")\n",
    "except (ZeroDivisionError, TypeError) as e:\n",
    "    print(\"У нас сталась помилка >>\", e)\n",
    "    #print(\"ми не можемо ділити на \", A)\n",
    "#except TypeError as e:\n",
    "#    print(\"Тут сталась наша момилка >>\", e)\n",
    "finally:\n",
    "    print(\"А вот воно що!\")"
   ]
  },
  {
   "cell_type": "markdown",
   "metadata": {},
   "source": [
    "### Робота з контекст-менеджерами"
   ]
  },
  {
   "cell_type": "code",
   "execution_count": 112,
   "metadata": {},
   "outputs": [
    {
     "name": "stdout",
     "output_type": "stream",
     "text": [
      "First line\n",
      "\n",
      "First line\n",
      "\n"
     ]
    },
    {
     "ename": "ValueError",
     "evalue": "I/O operation on closed file.",
     "output_type": "error",
     "traceback": [
      "\u001b[1;31m---------------------------------------------------------------------------\u001b[0m",
      "\u001b[1;31mValueError\u001b[0m                                Traceback (most recent call last)",
      "\u001b[1;32mc:\\IT_College_Students\\2022-tks24-oop\\2_lab\\lab.ipynb Cell 22\u001b[0m in \u001b[0;36m<cell line: 8>\u001b[1;34m()\u001b[0m\n\u001b[0;32m      <a href='vscode-notebook-cell:/c%3A/IT_College_Students/2022-tks24-oop/2_lab/lab.ipynb#X30sZmlsZQ%3D%3D?line=4'>5</a>\u001b[0m \u001b[39mwith\u001b[39;00m \u001b[39mopen\u001b[39m(\u001b[39m\"\u001b[39m\u001b[39mtext.txt\u001b[39m\u001b[39m\"\u001b[39m, \u001b[39m\"\u001b[39m\u001b[39mr\u001b[39m\u001b[39m\"\u001b[39m) \u001b[39mas\u001b[39;00m f:\n\u001b[0;32m      <a href='vscode-notebook-cell:/c%3A/IT_College_Students/2022-tks24-oop/2_lab/lab.ipynb#X30sZmlsZQ%3D%3D?line=5'>6</a>\u001b[0m     \u001b[39mprint\u001b[39m(f\u001b[39m.\u001b[39mreadline())\n\u001b[1;32m----> <a href='vscode-notebook-cell:/c%3A/IT_College_Students/2022-tks24-oop/2_lab/lab.ipynb#X30sZmlsZQ%3D%3D?line=7'>8</a>\u001b[0m \u001b[39mprint\u001b[39m(f\u001b[39m.\u001b[39;49mreadline())\n",
      "\u001b[1;31mValueError\u001b[0m: I/O operation on closed file."
     ]
    }
   ],
   "source": [
    "f = open(\"text.txt\", \"r\")\n",
    "print(f.readline())\n",
    "f.close()\n",
    "\n",
    "with open(\"text.txt\", \"r\") as f:\n",
    "    print(f.readline())\n",
    "\n",
    "print(f.readline())"
   ]
  },
  {
   "cell_type": "markdown",
   "metadata": {},
   "source": [
    "### Робота з Лямбдами"
   ]
  },
  {
   "cell_type": "code",
   "execution_count": null,
   "metadata": {},
   "outputs": [
    {
     "name": "stdout",
     "output_type": "stream",
     "text": [
      "Це є функція >> <function my_name at 0x000001B6A65B2560>\n",
      "Я викликаю функцію >> Моє імя Богдан та прізвище Б\n",
      "<function my_name at 0x000001B6A65B2560> Моє імя Богдан та прізвище Б\n",
      "Це просто функція: <function <lambda> at 0x000001B6A6690160>\n",
      "Це її виклик: Моє імя Богдан та прізвище Б\n"
     ]
    }
   ],
   "source": [
    "def my_name(first, last):\n",
    "    return f\"Моє імя {first} та прізвище {last}\"\n",
    "\n",
    "print(\"Це є функція >>\", my_name)\n",
    "print(\"Я викликаю функцію >>\", my_name(\"Богдан\", \"Б\"))\n",
    "\n",
    "this_is_functio = my_name\n",
    "\n",
    "print(this_is_functio, this_is_functio('Богдан', 'Б'))\n",
    "\n",
    "this_is_lambda = lambda first, last: f'Моє імя {first} та прізвище {last}'\n",
    "print(\"Це просто функція:\", this_is_lambda)\n",
    "print(\"Це її виклик:\", this_is_lambda('Богдан', 'Б'))"
   ]
  },
  {
   "cell_type": "code",
   "execution_count": null,
   "metadata": {},
   "outputs": [],
   "source": [
    "this_is_lambda = \"Lambda\""
   ]
  }
 ],
 "metadata": {
  "kernelspec": {
   "display_name": "Python 3.10.6 64-bit",
   "language": "python",
   "name": "python3"
  },
  "language_info": {
   "codemirror_mode": {
    "name": "ipython",
    "version": 3
   },
   "file_extension": ".py",
   "mimetype": "text/x-python",
   "name": "python",
   "nbconvert_exporter": "python",
   "pygments_lexer": "ipython3",
   "version": "3.10.6"
  },
  "orig_nbformat": 4,
  "vscode": {
   "interpreter": {
    "hash": "a42ccb73e7d9bfdf27e036f1d2b8b681e55fc0743cc5586bc2474d4a60f4b886"
   }
  }
 },
 "nbformat": 4,
 "nbformat_minor": 2
}
