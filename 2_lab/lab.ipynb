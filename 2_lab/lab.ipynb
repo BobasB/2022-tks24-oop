{
 "cells": [
  {
   "cell_type": "markdown",
   "metadata": {},
   "source": [
    "# Працюю з базовими типами даних"
   ]
  },
  {
   "cell_type": "code",
   "execution_count": 28,
   "metadata": {},
   "outputs": [
    {
     "name": "stdout",
     "output_type": "stream",
     "text": [
      "Це є тип стрічка Круто\n"
     ]
    }
   ],
   "source": [
    "this_is_variable = \"Це є тип стрічка\"\n",
    "var_2 = \"Круто\"\n",
    "print(this_is_variable, var_2)"
   ]
  },
  {
   "cell_type": "code",
   "execution_count": 29,
   "metadata": {},
   "outputs": [
    {
     "name": "stdout",
     "output_type": "stream",
     "text": [
      "14.5\n"
     ]
    }
   ],
   "source": [
    "a = 4\n",
    "b = 10.5\n",
    "print(a+b)"
   ]
  },
  {
   "cell_type": "code",
   "execution_count": 30,
   "metadata": {},
   "outputs": [
    {
     "name": "stdout",
     "output_type": "stream",
     "text": [
      "я виводжу змінну: 4 Далі буде текстова змінна Круто\n",
      "я виводжу змінну: 4 Далі буде текстова змінна Круто\n",
      "я виводжу змінну: 4 Далі буде текстова змінна Круто\n",
      "я виводжу змінну: 4 Далі буде текстова змінна Круто\n"
     ]
    }
   ],
   "source": [
    "print(\"я виводжу змінну:\", a,\"Далі буде текстова змінна\", var_2)\n",
    "\n",
    "print(\"я виводжу змінну: \" + str(a) + \" Далі буде текстова змінна \" + var_2)\n",
    "\n",
    "print(\"я виводжу змінну: {0} Далі буде текстова змінна {1}\".format(a, var_2))\n",
    "\n",
    "print(f\"я виводжу змінну: {a} Далі буде текстова змінна {var_2}\")"
   ]
  },
  {
   "cell_type": "code",
   "execution_count": 31,
   "metadata": {},
   "outputs": [
    {
     "name": "stdout",
     "output_type": "stream",
     "text": [
      "Виводжу перший елемент ліста: 1\n",
      "Замінюємо елемент None\n",
      "Заміна\n",
      "<class 'list'>\n",
      "Видаляємо елементи Сету 1\n",
      "Елементи після видалення {2, 'asd', 5.5}\n"
     ]
    }
   ],
   "source": [
    "ll = [\"Стрічка\", 1, 1.5, [1, 5], 1]\n",
    "print(f\"Виводжу перший елемент ліста: {ll[1]}\")\n",
    "print(f\"Замінюємо елемент {ll.insert(1, 'Заміна')}\")\n",
    "print(ll[1])\n",
    "\n",
    "print(type(ll))\n",
    "\n",
    "ss = {\"asd\", 1, 5.5, 1, 2, \"asd\"}\n",
    "print(f\"Видаляємо елементи Сету {ss.pop()}\")\n",
    "print(f\"Елементи після видалення {ss}\")"
   ]
  },
  {
   "cell_type": "markdown",
   "metadata": {},
   "source": [
    "# Знайомимся з словниками"
   ]
  },
  {
   "cell_type": "code",
   "execution_count": 32,
   "metadata": {},
   "outputs": [
    {
     "name": "stdout",
     "output_type": "stream",
     "text": [
      "Це є <class 'dict'> і його елементи {'a': 'Богдан', 4: 'Стас'}\n",
      "Беремо елемет << a >> Богдан та елемент << 4 >> Стас\n"
     ]
    }
   ],
   "source": [
    "dd = {\"a\": \"Богдан\", a: \"Стас\"}\n",
    "print(f\"Це є {type(dd)} і його елементи {dd}\")\n",
    "print(f\"Беремо елемет << a >> {dd['a']} та елемент << {a} >> {dd[a]}\")"
   ]
  },
  {
   "cell_type": "code",
   "execution_count": 33,
   "metadata": {},
   "outputs": [
    {
     "name": "stdout",
     "output_type": "stream",
     "text": [
      "Пробую функію type <class 'int'>\n",
      "Створюємо сет за допомогою функції {1}\n",
      "Пробую константу True яка може бути схожою на змінну 1\n"
     ]
    },
    {
     "data": {
      "text/plain": [
       "2999801741648"
      ]
     },
     "execution_count": 33,
     "metadata": {},
     "output_type": "execute_result"
    }
   ],
   "source": [
    "print(f\"Пробую функію type {type(a)}\")\n",
    "print(f\"Створюємо сет за допомогою функції {set([1])}\")\n",
    "TrueS = 1\n",
    "print(f\"Пробую константу {True} яка може бути схожою на змінну {TrueS}\")\n",
    "\n",
    "id(a)"
   ]
  },
  {
   "cell_type": "markdown",
   "metadata": {},
   "source": [
    "### Робота з циклами\n",
    "- while\n",
    "- for"
   ]
  },
  {
   "cell_type": "code",
   "execution_count": 34,
   "metadata": {},
   "outputs": [
    {
     "name": "stdout",
     "output_type": "stream",
     "text": [
      "Ми виконуємо ітерацію 0\n",
      "Ми виконуємо ітерацію 1\n",
      "Ми виконуємо ітерацію 2\n",
      "Ми виконуємо ітерацію 3\n",
      "Ми виконуємо ітерацію 4\n",
      "Ми виконуємо ітерацію 5\n",
      "Закінчуємо цикл\n",
      "Ми виконуємо ітерацію 0\n",
      "Ми виконуємо ітерацію 1\n",
      "Ми виконуємо ітерацію 2\n",
      "Ми виконуємо ітерацію 3\n",
      "Ми виконуємо ітерацію 4\n",
      "Ми виконуємо ітерацію 5\n",
      "Закінчуємо цикл на значенні\n"
     ]
    }
   ],
   "source": [
    "i = 0\n",
    "while True:\n",
    "    print(f\"Ми виконуємо ітерацію {i}\")\n",
    "    i += 1\n",
    "    if i > 5:\n",
    "        print(\"Закінчуємо цикл\")\n",
    "        break\n",
    "\n",
    "i = 0\n",
    "while i <= 5:\n",
    "    print(f\"Ми виконуємо ітерацію {i}\")\n",
    "    i += 1\n",
    "else:\n",
    "    print(\"Закінчуємо цикл на значенні\",)"
   ]
  },
  {
   "cell_type": "code",
   "execution_count": 35,
   "metadata": {},
   "outputs": [
    {
     "name": "stdout",
     "output_type": "stream",
     "text": [
      "Ми виконуємо ітерацію 1\n",
      "Ми виконуємо ітерацію 2\n",
      "Значення 3 не буде виведено\n",
      "Ми виконуємо ітерацію 4\n",
      "Ми виконуємо ітерацію 5\n",
      "Ми виконуємо ітерацію 6\n"
     ]
    }
   ],
   "source": [
    "i = 0\n",
    "while i <= 5:\n",
    "    i += 1\n",
    "    if i == 3:\n",
    "        print(f\"Значення {i} не буде виведено\")\n",
    "        continue\n",
    "    print(f\"Ми виконуємо ітерацію {i}\")"
   ]
  },
  {
   "cell_type": "code",
   "execution_count": 36,
   "metadata": {},
   "outputs": [
    {
     "name": "stdout",
     "output_type": "stream",
     "text": [
      "50.0\n",
      "Беремо елемент 2 який знаходиться на позиції 0\n",
      "20.0\n",
      "Беремо елемент 5 який знаходиться на позиції 1\n",
      "40.0\n",
      "Беремо елемент 2.5 який знаходиться на позиції 2\n",
      "На нуль ділити не можна!\n",
      "Беремо елемент 0 який знаходиться на позиції 3\n",
      "16.666666666666668\n",
      "Беремо елемент 6 який знаходиться на позиції 4\n"
     ]
    }
   ],
   "source": [
    "li = [2, 5, 2.5, 0, 6]\n",
    "hh = \"На нуль ділити не можна!\"\n",
    "for i in li:\n",
    "    print(100/i if i != 0 else hh)\n",
    "    print(f\"Беремо елемент {i} який знаходиться на позиції {li.index(i)}\")\n",
    "\n"
   ]
  },
  {
   "cell_type": "code",
   "execution_count": 38,
   "metadata": {},
   "outputs": [
    {
     "name": "stdout",
     "output_type": "stream",
     "text": [
      "\n",
      "X~\n",
      "X~X~\n",
      "X~X~X~\n",
      "X~X~X~X~\n",
      "X~X~X~X~X~\n",
      "X~X~X~X~X~X~\n",
      "X~X~X~X~X~X~X~\n",
      "X~X~X~X~X~X~X~X~\n",
      "X~X~X~X~X~X~X~X~X~\n",
      "~X~X~X~X~X~X~X~X~X\n",
      "~X~X~X~X~X~X~X~X\n",
      "~X~X~X~X~X~X~X\n",
      "~X~X~X~X~X~X\n",
      "~X~X~X~X~X\n",
      "~X~X~X~X\n",
      "~X~X~X\n",
      "~X~X\n",
      "~X\n"
     ]
    }
   ],
   "source": [
    "for a in range(10):\n",
    "    print(a * \"X~\")\n",
    "\n",
    "for b in range(a):\n",
    "    print((a-b) * \"~X\")\n",
    "    "
   ]
  }
 ],
 "metadata": {
  "kernelspec": {
   "display_name": "Python 3.10.6 64-bit",
   "language": "python",
   "name": "python3"
  },
  "language_info": {
   "codemirror_mode": {
    "name": "ipython",
    "version": 3
   },
   "file_extension": ".py",
   "mimetype": "text/x-python",
   "name": "python",
   "nbconvert_exporter": "python",
   "pygments_lexer": "ipython3",
   "version": "3.10.6"
  },
  "orig_nbformat": 4,
  "vscode": {
   "interpreter": {
    "hash": "a42ccb73e7d9bfdf27e036f1d2b8b681e55fc0743cc5586bc2474d4a60f4b886"
   }
  }
 },
 "nbformat": 4,
 "nbformat_minor": 2
}
